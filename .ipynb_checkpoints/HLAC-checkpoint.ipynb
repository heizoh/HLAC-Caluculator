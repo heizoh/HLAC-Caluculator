{
 "cells": [
  {
   "cell_type": "code",
   "execution_count": null,
   "metadata": {},
   "outputs": [],
   "source": [
    "#Numpy、Pillowを読み込む。\n",
    "import numpy as np\n",
    "from PIL import Image"
   ]
  },
  {
   "cell_type": "code",
   "execution_count": null,
   "metadata": {},
   "outputs": [],
   "source": [
    "def Calculate_HLAC(img):\n",
    "    #HLACの計算を行うための関数\n",
    "    \n",
    "    #画像データをNumpy配列に変換する\n",
    "    img_array = np.asarray(img,np.uint8)\n",
    "    \n",
    "    #画像の幅、高さ\n",
    "    width,height = img_array.shape\n",
    "    \n",
    "    #HLACで使用する25のマスクパターンを定義する。\n",
    "    masks = [[[0,0,0],[0,1,0],[0,0,0]],[[0,0,0],[0,1,1],[0,0,0]],[[0,0,1],[0,1,0],[0,0,0]],\n",
    "             [[0,1,0],[0,1,0],[0,0,0]],[[1,0,0],[0,1,0],[0,0,0]],[[0,0,0],[1,1,1],[0,0,0]],\n",
    "            [[0,0,1],[0,1,0],[0,0,1]],[[0,1,0],[0,1,0],[0,1,0]],[[1,0,0],[0,1,0],[0,0,1]],\n",
    "            [[0,0,1],[1,1,0],[0,0,0]],[[0,1,0],[0,1,0],[1,0,0]],[[1,0,0],[0,1,0],[0,1,0]],\n",
    "            [[0,0,0],[1,1,0],[0,0,1]],[[0,0,0],[0,1,1],[1,0,0]],[[0,0,1],[0,1,0],[0,1,0]],\n",
    "            [[0,1,0],[0,1,0],[0,0,1]],[[1,0,0],[0,1,1],[0,0,0]],[[0,1,0],[1,1,0],[0,0,0]],\n",
    "            [[1,0,0],[0,1,0],[1,0,0]],[[0,0,0],[1,1,0],[0,1,0]],[[0,0,0],[0,1,0],[1,0,1]],\n",
    "            [[0,0,0],[0,1,1],[0,1,0]],[[0,0,1],[0,1,0],[0,0,1]],[[0,1,0],[0,1,1],[0,0,0]],\n",
    "            [[1,0,1],[0,1,0],[0,0,0]]]\n",
    "    \n",
    "    #返り値を定義\n",
    "    ret = []\n",
    "    \n",
    "    #画像をグレースケールからモノクロ（0-1）に変換\n",
    "    thresh = 128\n",
    "    img_array = img_array < thresh\n",
    "    \n",
    "    #画像内を3×3のマスクパターンで走査する。\n",
    "    for mask in masks:\n",
    "        val = 0\n",
    "        for i in range(width-2):\n",
    "            for j in range(height -2):\n",
    "                _img = img_array[i:i+3,j:j+3].astype(np.uint8)\n",
    "                mask = np.asarray(mask,np.uint8)\n",
    "                #マスクパターンと合致する部分の合計を数値としてvalに加える。\n",
    "                val+=np.sum(_img*mask)\n",
    "        #これをマスクパターンの数（25）だけ行う。\n",
    "        ret.append(val)\n",
    "    \n",
    "    return ret"
   ]
  },
  {
   "cell_type": "code",
   "execution_count": null,
   "metadata": {},
   "outputs": [],
   "source": [
    "#画像（32×32）の読み込み。\n",
    "img = Image.open('picts/one_1.png')\n",
    "#画像をRGBからグレースケールに変換\n",
    "img = img.convert('L')"
   ]
  },
  {
   "cell_type": "code",
   "execution_count": null,
   "metadata": {},
   "outputs": [],
   "source": [
    "#画像のHLAC演算及び結果（25次元のベクトル）の表示\n",
    "a = Calculate_HLAC(img)\n",
    "print(a)"
   ]
  },
  {
   "cell_type": "code",
   "execution_count": null,
   "metadata": {},
   "outputs": [],
   "source": []
  }
 ],
 "metadata": {
  "kernelspec": {
   "display_name": "Python 3",
   "language": "python",
   "name": "python3"
  },
  "language_info": {
   "codemirror_mode": {
    "name": "ipython",
    "version": 3
   },
   "file_extension": ".py",
   "mimetype": "text/x-python",
   "name": "python",
   "nbconvert_exporter": "python",
   "pygments_lexer": "ipython3",
   "version": "3.7.5"
  }
 },
 "nbformat": 4,
 "nbformat_minor": 4
}
